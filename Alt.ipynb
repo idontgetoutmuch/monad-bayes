{
 "cells": [
  {
   "cell_type": "markdown",
   "metadata": {
    "ein.tags": "worksheet-0",
    "slideshow": {
     "slide_type": "-"
    }
   },
   "source": [
    "Suppose our data are IID normal, $x_i \\sim \\cal{N}(\\mu, \\sigma)$, so the likelihood is\n",
    "\n",
    "$$\n",
    "p(x\\,|\\,\\mu, \\sigma) \\propto \\prod_{i=1}^n \\exp{\\bigg( -\\frac{(x_i - \\mu)^2}{2\\sigma^2}\\bigg)}\n",
    "$$\n"
   ]
  },
  {
   "cell_type": "markdown",
   "metadata": {},
   "source": [
    "Suppose further that $\\sigma$ is known and the prior for $\\mu$ is $\\cal{N}(\\mu_0, \\sigma_0)$, that is\n",
    "$$\n",
    "\\pi(\\mu) \\propto \\exp{\\bigg( -\\frac{(\\mu - \\mu_0)^2}{2\\sigma_0^2}\\bigg)}\n",
    "$$"
   ]
  },
  {
   "cell_type": "markdown",
   "metadata": {
    "ein.tags": "worksheet-0",
    "slideshow": {
     "slide_type": "-"
    }
   },
   "source": [
    "We can calculate the posterior analytically\n",
    "\n",
    "$$\n",
    "\\begin{aligned}\n",
    "p(\\mu\\,|\\, \\boldsymbol{x}) &\\propto \\exp{\\bigg(\n",
    "-\\frac{(\\mu - \\mu_0)^2}{2\\sigma_0^2}\n",
    "- \\frac{\\sum_{i=1}^n(x_i - \\mu)^2}{2\\sigma^2}\\bigg)} \\\\\n",
    "&\\propto \\exp{\\bigg[-\\frac{1}{2}\\bigg(\\frac{\\mu^2 \\sigma^2 -2\\sigma^2\\mu\\mu_0 - 2\\sigma_0^2n\\bar{x}\\mu + \\sigma_0^2 n\\mu^2}{\\sigma^2\\sigma_0^2}\\bigg)\\bigg]} \\\\\n",
    "&= \\exp{\\bigg[-\\frac{1}{2}\\bigg(\\frac{ (n\\sigma_0^2 + \\sigma^2)\\mu^2 - 2(\\sigma^2\\mu_0 - \\sigma_0^2n\\bar{x})\\mu}{\\sigma^2\\sigma_0^2}\\bigg)\\bigg]} \\\\\n",
    "&= \\exp{\\Bigg[-\\frac{1}{2}\\Bigg(\\frac{ \\mu^2 - 2\\mu\\frac{(\\sigma^2\\mu_0 - \\sigma_0^2n\\bar{x})}{(n\\sigma_0^2 + \\sigma^2)}}{\\frac{\\sigma^2\\sigma_0^2}{(n\\sigma_0^2 + \\sigma^2)}}\\Bigg)\\Bigg]} \\\\\n",
    "&\\propto \\exp{\\Bigg[-\\frac{1}{2}\\Bigg(\\frac{\\big(\\mu - \\frac{(\\sigma^2\\mu_0 - \\sigma_0^2n\\bar{x})}{(n\\sigma_0^2 + \\sigma^2)}\\big)^2}{\\frac{\\sigma^2\\sigma_0^2}{(n\\sigma_0^2 + \\sigma^2)}}\\Bigg)\\Bigg]}\n",
    "\\end{aligned}\n",
    "$$\n",
    "\n",
    "In other words\n",
    "\n",
    "$$\n",
    "\\mu\\,|\\, \\boldsymbol{x} \\sim \\cal{N}\\bigg(\\frac{\\sigma^2\\mu_0 + n\\sigma_0^2\\bar{x}}{n\\sigma_0^2 + \\sigma^2}, \\frac{\\sigma^2\\sigma_0^2}{n\\sigma_0y^2 + \\sigma^2} \\bigg)\n",
    "$$\n"
   ]
  },
  {
   "cell_type": "markdown",
   "metadata": {},
   "source": [
    "## Markov Chain Monte Carlo"
   ]
  },
  {
   "cell_type": "markdown",
   "metadata": {},
   "source": [
    "Let's create some fake data."
   ]
  },
  {
   "cell_type": "code",
   "execution_count": 1,
   "metadata": {
    "autoscroll": false,
    "ein.hycell": false,
    "ein.tags": "worksheet-0",
    "jupyter": {
     "outputs_hidden": false
    },
    "slideshow": {
     "slide_type": "-"
    }
   },
   "outputs": [],
   "source": [
    "import qualified Data.Vector.Unboxed as V\n",
    "import Data.Random.Source.PureMT\n",
    "import Data.Random\n",
    "import Control.Monad.State\n",
    "import Data.Histogram ( asList )\n",
    "import Data.Histogram.Fill\n",
    "import Data.Histogram.Generic ( Histogram )"
   ]
  },
  {
   "cell_type": "code",
   "execution_count": 2,
   "metadata": {
    "autoscroll": false,
    "ein.hycell": false,
    "ein.tags": "worksheet-0",
    "jupyter": {
     "outputs_hidden": false
    },
    "slideshow": {
     "slide_type": "-"
    }
   },
   "outputs": [],
   "source": [
    "nSamples, seed :: Int\n",
    "nSamples = 10\n",
    "seed = 2"
   ]
  },
  {
   "cell_type": "code",
   "execution_count": 3,
   "metadata": {
    "autoscroll": false,
    "ein.hycell": false,
    "ein.tags": "worksheet-0",
    "jupyter": {
     "outputs_hidden": false
    },
    "slideshow": {
     "slide_type": "-"
    }
   },
   "outputs": [],
   "source": [
    "mu0, sigma0, sigma :: Double\n",
    "mu0 = 11.0\n",
    "sigma0 = 2.0\n",
    "sigma = 1.0"
   ]
  },
  {
   "cell_type": "code",
   "execution_count": 4,
   "metadata": {
    "autoscroll": false,
    "ein.hycell": false,
    "ein.tags": "worksheet-0",
    "jupyter": {
     "outputs_hidden": false
    },
    "slideshow": {
     "slide_type": "-"
    }
   },
   "outputs": [],
   "source": [
    "d :: Double\n",
    "d = 2.0"
   ]
  },
  {
   "cell_type": "code",
   "execution_count": 5,
   "metadata": {
    "autoscroll": false,
    "ein.hycell": false,
    "ein.tags": "worksheet-0",
    "jupyter": {
     "outputs_hidden": false
    },
    "slideshow": {
     "slide_type": "-"
    }
   },
   "outputs": [],
   "source": [
    "simpleXs :: [Double]\n",
    "simpleXs =\n",
    "  evalState (replicateM nSamples hierarchicalSample)\n",
    "            (pureMT $ fromIntegral seed)\n",
    "  where\n",
    "    hierarchicalSample = do\n",
    "      mu <- sample (Normal mu0 sigma0)\n",
    "      sample (Normal mu sigma)"
   ]
  },
  {
   "cell_type": "code",
   "execution_count": 6,
   "metadata": {
    "autoscroll": false,
    "ein.hycell": false,
    "ein.tags": "worksheet-0",
    "jupyter": {
     "outputs_hidden": false
    },
    "slideshow": {
     "slide_type": "-"
    }
   },
   "outputs": [],
   "source": [
    "normalisedProposals :: Int -> Double -> Int -> [Double]\n",
    "normalisedProposals seed sigma nIters =\n",
    "  evalState (replicateM nIters (sample (Normal 0.0 sigma)))\n",
    "  (pureMT $ fromIntegral seed)\n",
    "\n",
    "acceptOrRejects :: Int -> Int -> [Double]\n",
    "acceptOrRejects seed nIters =\n",
    "  evalState (replicateM nIters (sample stdUniform))\n",
    "  (pureMT $ fromIntegral seed)\n",
    "\n",
    "prior :: Double -> Double\n",
    "prior mu = exp (-(mu - mu0)**2 / (2 * sigma0**2))\n",
    "\n",
    "likelihood :: Double -> [Double] -> Double\n",
    "likelihood mu xs = exp (-sum (map (\\x -> (x - mu)**2 / (2 * sigma**2)) xs))\n",
    "\n",
    "posterior :: Double -> [Double] -> Double\n",
    "posterior mu xs = likelihood mu xs * prior mu\n",
    "\n",
    "acceptanceProb :: Double -> Double -> [Double] -> Double\n",
    "acceptanceProb mu mu' xs = min 1.0 (posterior mu' xs / posterior mu xs)\n",
    "\n",
    "oneStep :: (Double, Int) -> (Double, Double) -> (Double, Int)\n",
    "oneStep (mu, nAccs) (proposedJump, acceptOrReject) =\n",
    "  if acceptOrReject < acceptanceProb mu (mu + proposedJump) simpleXs\n",
    "  then (mu + proposedJump, nAccs + 1)\n",
    "  else (mu, nAccs)"
   ]
  },
  {
   "cell_type": "code",
   "execution_count": 7,
   "metadata": {
    "autoscroll": false,
    "ein.hycell": false,
    "ein.tags": "worksheet-0",
    "jupyter": {
     "outputs_hidden": false
    },
    "slideshow": {
     "slide_type": "-"
    }
   },
   "outputs": [],
   "source": [
    "test :: [(Double, Int)]\n",
    "test = drop 200000 $\n",
    "       scanl oneStep (10.0, 0) $\n",
    "       zip (normalisedProposals 3 0.4 300000) (acceptOrRejects 4 300000)"
   ]
  },
  {
   "cell_type": "code",
   "execution_count": 8,
   "metadata": {
    "autoscroll": false,
    "ein.hycell": false,
    "ein.tags": "worksheet-0",
    "jupyter": {
     "outputs_hidden": false
    },
    "slideshow": {
     "slide_type": "-"
    }
   },
   "outputs": [],
   "source": [
    "hb :: HBuilder Double (Data.Histogram.Generic.Histogram V.Vector BinD Double)\n",
    "hb = forceDouble -<< mkSimple (binD (10.0 - 1.5*sigma0) 400 (10.0 + 1.5*sigma0))\n",
    "\n",
    "hist :: Histogram V.Vector BinD Double\n",
    "hist = fillBuilder hb (map fst test)"
   ]
  },
  {
   "cell_type": "code",
   "execution_count": 9,
   "metadata": {},
   "outputs": [],
   "source": [
    ":set -fno-ghci-sandbox"
   ]
  },
  {
   "cell_type": "code",
   "execution_count": 10,
   "metadata": {},
   "outputs": [
    {
     "data": {
      "text/html": [
       "<style>/* Styles used for the Hoogle display in the pager */\n",
       ".hoogle-doc {\n",
       "display: block;\n",
       "padding-bottom: 1.3em;\n",
       "padding-left: 0.4em;\n",
       "}\n",
       ".hoogle-code {\n",
       "display: block;\n",
       "font-family: monospace;\n",
       "white-space: pre;\n",
       "}\n",
       ".hoogle-text {\n",
       "display: block;\n",
       "}\n",
       ".hoogle-name {\n",
       "color: green;\n",
       "font-weight: bold;\n",
       "}\n",
       ".hoogle-head {\n",
       "font-weight: bold;\n",
       "}\n",
       ".hoogle-sub {\n",
       "display: block;\n",
       "margin-left: 0.4em;\n",
       "}\n",
       ".hoogle-package {\n",
       "font-weight: bold;\n",
       "font-style: italic;\n",
       "}\n",
       ".hoogle-module {\n",
       "font-weight: bold;\n",
       "}\n",
       ".hoogle-class {\n",
       "font-weight: bold;\n",
       "}\n",
       ".get-type {\n",
       "color: green;\n",
       "font-weight: bold;\n",
       "font-family: monospace;\n",
       "display: block;\n",
       "white-space: pre-wrap;\n",
       "}\n",
       ".show-type {\n",
       "color: green;\n",
       "font-weight: bold;\n",
       "font-family: monospace;\n",
       "margin-left: 1em;\n",
       "}\n",
       ".mono {\n",
       "font-family: monospace;\n",
       "display: block;\n",
       "}\n",
       ".err-msg {\n",
       "color: red;\n",
       "font-style: italic;\n",
       "font-family: monospace;\n",
       "white-space: pre;\n",
       "display: block;\n",
       "}\n",
       "#unshowable {\n",
       "color: red;\n",
       "font-weight: bold;\n",
       "}\n",
       ".err-msg.in.collapse {\n",
       "padding-top: 0.7em;\n",
       "}\n",
       ".highlight-code {\n",
       "white-space: pre;\n",
       "font-family: monospace;\n",
       "}\n",
       ".suggestion-warning { \n",
       "font-weight: bold;\n",
       "color: rgb(200, 130, 0);\n",
       "}\n",
       ".suggestion-error { \n",
       "font-weight: bold;\n",
       "color: red;\n",
       "}\n",
       ".suggestion-name {\n",
       "font-weight: bold;\n",
       "}\n",
       "</style><div class=\"suggestion-name\" style=\"clear:both;\">Unused LANGUAGE pragma</div><div class=\"suggestion-row\" style=\"float: left;\"><div class=\"suggestion-warning\">Found:</div><div class=\"highlight-code\" id=\"haskell\">{-# LANGUAGE TemplateHaskell #-}</div></div><div class=\"suggestion-row\" style=\"float: left;\"><div class=\"suggestion-warning\">Why Not:</div><div class=\"highlight-code\" id=\"haskell\"></div></div><div class=\"suggestion-name\" style=\"clear:both;\">Unused LANGUAGE pragma</div><div class=\"suggestion-row\" style=\"float: left;\"><div class=\"suggestion-warning\">Found:</div><div class=\"highlight-code\" id=\"haskell\">{-# LANGUAGE QuasiQuotes #-}</div></div><div class=\"suggestion-row\" style=\"float: left;\"><div class=\"suggestion-warning\">Why Not:</div><div class=\"highlight-code\" id=\"haskell\"></div></div>"
      ],
      "text/plain": [
       "Line 1: Unused LANGUAGE pragma\n",
       "Found:\n",
       "{-# LANGUAGE TemplateHaskell #-}\n",
       "Why not:\n",
       "Line 2: Unused LANGUAGE pragma\n",
       "Found:\n",
       "{-# LANGUAGE QuasiQuotes #-}\n",
       "Why not:"
      ]
     },
     "metadata": {},
     "output_type": "display_data"
    }
   ],
   "source": [
    "{-# LANGUAGE TemplateHaskell #-}\n",
    "{-# LANGUAGE QuasiQuotes #-}\n",
    "\n",
    "import qualified Language.R as R\n",
    "import Language.R.QQ"
   ]
  },
  {
   "cell_type": "code",
   "execution_count": 11,
   "metadata": {},
   "outputs": [],
   "source": [
    "xs = map fst $ asList hist\n",
    "ys = map snd $ asList hist"
   ]
  },
  {
   "cell_type": "code",
   "execution_count": 12,
   "metadata": {},
   "outputs": [
    {
     "data": {
      "text/plain": [
       "Warning: Ignoring unknown parameters: binwidth, bins, pad\n",
       "Saving 7 x 7 in image"
      ]
     },
     "metadata": {},
     "output_type": "display_data"
    }
   ],
   "source": [
    "  R.runRegion $ do\n",
    "    [r| library(ggplot2) |]\n",
    "    df <- [r| data <- data.frame(xs_hs, ys_hs) |]\n",
    "    p1 <- [r| ggplot(df_hs, aes(x=xs_hs, y = ys_hs)) + geom_histogram(stat=\"identity\") |]\n",
    "    [r| ggsave(filename=\"diagrams/TestHist.pdf\") |]\n",
    "    return ()"
   ]
  },
  {
   "cell_type": "code",
   "execution_count": null,
   "metadata": {},
   "outputs": [],
   "source": []
  }
 ],
 "metadata": {
  "kernelspec": {
   "display_name": "Haskell",
   "language": "haskell",
   "name": "haskell"
  },
  "language_info": {
   "codemirror_mode": "ihaskell",
   "file_extension": ".hs",
   "name": "haskell",
   "pygments_lexer": "Haskell",
   "version": "8.6.4"
  },
  "name": "ExplicitMcmcLinReg.ipynb"
 },
 "nbformat": 4,
 "nbformat_minor": 4
}
